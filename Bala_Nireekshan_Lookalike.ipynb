{
  "nbformat": 4,
  "nbformat_minor": 0,
  "metadata": {
    "colab": {
      "provenance": [],
      "authorship_tag": "ABX9TyPYhB333pQVlwJRKMbHVrZo",
      "include_colab_link": true
    },
    "kernelspec": {
      "name": "python3",
      "display_name": "Python 3"
    },
    "language_info": {
      "name": "python"
    }
  },
  "cells": [
    {
      "cell_type": "markdown",
      "metadata": {
        "id": "view-in-github",
        "colab_type": "text"
      },
      "source": [
        "<a href=\"https://colab.research.google.com/github/balanireekshan/Data-Science-Intern-Assignment/blob/main/Bala_Nireekshan_Lookalike.ipynb\" target=\"_parent\"><img src=\"https://colab.research.google.com/assets/colab-badge.svg\" alt=\"Open In Colab\"/></a>"
      ]
    },
    {
      "cell_type": "markdown",
      "source": [
        "**1. Data Preparation**"
      ],
      "metadata": {
        "id": "4HEjMHZqW66e"
      }
    },
    {
      "cell_type": "code",
      "source": [
        "# Import libraries\n",
        "import pandas as pd\n",
        "from sklearn.metrics.pairwise import cosine_similarity\n",
        "\n",
        "# Load datasets\n",
        "customers = pd.read_csv('Customers.csv')\n",
        "products = pd.read_csv('Products.csv')\n",
        "transactions = pd.read_csv('Transactions.csv')\n",
        "\n",
        "# Merge datasets\n",
        "data = transactions.merge(customers, on='CustomerID').merge(products, on='ProductID')\n",
        "\n",
        "# Inspect merged dataset\n",
        "print(data.head())"
      ],
      "metadata": {
        "colab": {
          "base_uri": "https://localhost:8080/"
        },
        "id": "HGZxmf3iXOfN",
        "outputId": "9062155e-c7b5-4e3e-b206-ee2f916ef010"
      },
      "execution_count": 1,
      "outputs": [
        {
          "output_type": "stream",
          "name": "stdout",
          "text": [
            "  TransactionID CustomerID ProductID      TransactionDate  Quantity  \\\n",
            "0        T00001      C0199      P067  2024-08-25 12:38:23         1   \n",
            "1        T00112      C0146      P067  2024-05-27 22:23:54         1   \n",
            "2        T00166      C0127      P067  2024-04-25 07:38:55         1   \n",
            "3        T00272      C0087      P067  2024-03-26 22:55:37         2   \n",
            "4        T00363      C0070      P067  2024-03-21 15:10:10         3   \n",
            "\n",
            "   TotalValue  Price_x     CustomerName         Region  SignupDate  \\\n",
            "0      300.68   300.68   Andrea Jenkins         Europe  2022-12-03   \n",
            "1      300.68   300.68  Brittany Harvey           Asia  2024-09-04   \n",
            "2      300.68   300.68  Kathryn Stevens         Europe  2024-04-04   \n",
            "3      601.36   300.68  Travis Campbell  South America  2024-04-11   \n",
            "4      902.04   300.68    Timothy Perez         Europe  2022-03-15   \n",
            "\n",
            "                       ProductName     Category  Price_y  \n",
            "0  ComfortLiving Bluetooth Speaker  Electronics   300.68  \n",
            "1  ComfortLiving Bluetooth Speaker  Electronics   300.68  \n",
            "2  ComfortLiving Bluetooth Speaker  Electronics   300.68  \n",
            "3  ComfortLiving Bluetooth Speaker  Electronics   300.68  \n",
            "4  ComfortLiving Bluetooth Speaker  Electronics   300.68  \n"
          ]
        }
      ]
    },
    {
      "cell_type": "markdown",
      "source": [
        "**2. Feature Matrix Creation**"
      ],
      "metadata": {
        "id": "sGzR_qwhYBkx"
      }
    },
    {
      "cell_type": "code",
      "source": [
        "# Create a customer-product interaction matrix\n",
        "customer_product_matrix = data.pivot_table(\n",
        "    index='CustomerID',\n",
        "    columns='ProductID',\n",
        "    values='TotalValue',\n",
        "    aggfunc='sum',\n",
        "    fill_value=0\n",
        ")\n",
        "\n",
        "# Check the feature matrix\n",
        "print(customer_product_matrix.head())"
      ],
      "metadata": {
        "colab": {
          "base_uri": "https://localhost:8080/"
        },
        "id": "1qv27IBrYFlg",
        "outputId": "34c214f9-fab7-43e4-f91c-f7375e318e19"
      },
      "execution_count": 2,
      "outputs": [
        {
          "output_type": "stream",
          "name": "stdout",
          "text": [
            "ProductID   P001    P002  P003    P004  P005    P006  P007   P008  P009  P010  \\\n",
            "CustomerID                                                                      \n",
            "C0001        0.0     0.0   0.0    0.00   0.0    0.00   0.0    0.0   0.0   0.0   \n",
            "C0002        0.0     0.0   0.0  382.76   0.0    0.00   0.0    0.0   0.0   0.0   \n",
            "C0003        0.0  1385.2   0.0    0.00   0.0  363.96   0.0    0.0   0.0   0.0   \n",
            "C0004        0.0     0.0   0.0    0.00   0.0    0.00   0.0  293.7   0.0   0.0   \n",
            "C0005        0.0     0.0   0.0    0.00   0.0    0.00   0.0    0.0   0.0   0.0   \n",
            "\n",
            "ProductID   ...  P091  P092  P093  P094    P095    P096    P097  P098  P099  \\\n",
            "CustomerID  ...                                                               \n",
            "C0001       ...   0.0   0.0   0.0   0.0    0.00  614.94    0.00   0.0   0.0   \n",
            "C0002       ...   0.0   0.0   0.0   0.0  454.52    0.00    0.00   0.0   0.0   \n",
            "C0003       ...   0.0   0.0   0.0   0.0    0.00    0.00    0.00   0.0   0.0   \n",
            "C0004       ...   0.0   0.0   0.0   0.0    0.00    0.00  958.02   0.0   0.0   \n",
            "C0005       ...   0.0   0.0   0.0   0.0    0.00    0.00    0.00   0.0   0.0   \n",
            "\n",
            "ProductID   P100  \n",
            "CustomerID        \n",
            "C0001        0.0  \n",
            "C0002        0.0  \n",
            "C0003        0.0  \n",
            "C0004        0.0  \n",
            "C0005        0.0  \n",
            "\n",
            "[5 rows x 100 columns]\n"
          ]
        }
      ]
    },
    {
      "cell_type": "markdown",
      "source": [
        "**3. Similarity Calculation**"
      ],
      "metadata": {
        "id": "7sowJ9ivYQ7Q"
      }
    },
    {
      "cell_type": "code",
      "source": [
        "# Calculate cosine similarity between customers\n",
        "similarity_matrix = cosine_similarity(customer_product_matrix)\n",
        "\n",
        "# Convert similarity matrix to a DataFrame for easy manipulation\n",
        "similarity_df = pd.DataFrame(similarity_matrix,\n",
        "                             index=customer_product_matrix.index,\n",
        "                             columns=customer_product_matrix.index)\n",
        "\n",
        "# Inspect the similarity DataFrame\n",
        "print(similarity_df.head())"
      ],
      "metadata": {
        "colab": {
          "base_uri": "https://localhost:8080/"
        },
        "id": "oS0kGI5LYP5L",
        "outputId": "e482e2db-ecb0-40be-b3b6-effc6c7536d2"
      },
      "execution_count": 3,
      "outputs": [
        {
          "output_type": "stream",
          "name": "stdout",
          "text": [
            "CustomerID  C0001  C0002     C0003     C0004     C0005  C0006     C0007  \\\n",
            "CustomerID                                                                \n",
            "C0001         1.0    0.0  0.000000  0.000000  0.000000    0.0  0.203038   \n",
            "C0002         0.0    1.0  0.000000  0.000000  0.000000    0.0  0.000000   \n",
            "C0003         0.0    0.0  1.000000  0.139782  0.347737    0.0  0.000000   \n",
            "C0004         0.0    0.0  0.139782  1.000000  0.186362    0.0  0.000000   \n",
            "C0005         0.0    0.0  0.347737  0.186362  1.000000    0.0  0.000000   \n",
            "\n",
            "CustomerID     C0008  C0009     C0010  ...    C0191     C0192  C0193  \\\n",
            "CustomerID                             ...                             \n",
            "C0001       0.000000    0.0  0.000000  ...  0.13837  0.000000    0.0   \n",
            "C0002       0.095163    0.0  0.000000  ...  0.00000  0.000000    0.0   \n",
            "C0003       0.004856    0.0  0.000000  ...  0.00000  0.000000    0.0   \n",
            "C0004       0.016953    0.0  0.071485  ...  0.00000  0.000000    0.0   \n",
            "C0005       0.000000    0.0  0.000000  ...  0.00000  0.641821    0.0   \n",
            "\n",
            "CustomerID     C0194  C0195  C0196  C0197  C0198     C0199  C0200  \n",
            "CustomerID                                                         \n",
            "C0001       0.410078    0.0    0.0    0.0    0.0  0.119181    0.0  \n",
            "C0002       0.000000    0.0    0.0    0.0    0.0  0.000000    0.0  \n",
            "C0003       0.000000    0.0    0.0    0.0    0.0  0.000000    0.0  \n",
            "C0004       0.073930    0.0    0.0    0.0    0.0  0.038244    0.0  \n",
            "C0005       0.020658    0.0    0.0    0.0    0.0  0.000000    0.0  \n",
            "\n",
            "[5 rows x 199 columns]\n"
          ]
        }
      ]
    },
    {
      "cell_type": "markdown",
      "source": [
        "**4. Recommendation Function**"
      ],
      "metadata": {
        "id": "McpppmS5YmqU"
      }
    },
    {
      "cell_type": "code",
      "source": [
        "# Function to find top 3 similar customers for a given customer\n",
        "def get_top_lookalikes(customer_id, similarity_df, top_n=3):\n",
        "    similar_customers = similarity_df[customer_id].nlargest(top_n + 1).iloc[1:]  # Exclude self\n",
        "    return [(sim_cust, round(score, 2)) for sim_cust, score in similar_customers.items()]\n",
        "\n",
        "# Test the function with a sample customer\n",
        "print(get_top_lookalikes('C0001', similarity_df))"
      ],
      "metadata": {
        "colab": {
          "base_uri": "https://localhost:8080/"
        },
        "id": "SpGWrZ_GYrS9",
        "outputId": "8d4400d9-3995-4fe9-c066-37b8c895940f"
      },
      "execution_count": 4,
      "outputs": [
        {
          "output_type": "stream",
          "name": "stdout",
          "text": [
            "[('C0050', 0.53), ('C0100', 0.53), ('C0105', 0.52)]\n"
          ]
        }
      ]
    },
    {
      "cell_type": "markdown",
      "source": [
        "**5. Generate Recommendations for Target Customers**"
      ],
      "metadata": {
        "id": "jLDz7n8UY27x"
      }
    },
    {
      "cell_type": "code",
      "source": [
        "# Generate lookalikes for the first 20 customers (CustomerID: C0001 to C0020)\n",
        "lookalikes = {}\n",
        "for customer_id in similarity_df.index[:20]:  # First 20 customers\n",
        "    lookalikes[customer_id] = get_top_lookalikes(customer_id, similarity_df)\n",
        "\n",
        "# Convert lookalikes to a DataFrame for export\n",
        "lookalike_df = pd.DataFrame({\n",
        "    \"CustomerID\": lookalikes.keys(),\n",
        "    \"Lookalikes\": [str(values) for values in lookalikes.values()]\n",
        "})\n",
        "\n",
        "# Save lookalike recommendations to CSV\n",
        "lookalike_df.to_csv(\"Lookalike.csv\", index=False)\n",
        "print(\"Lookalike recommendations saved to Lookalike.csv\")"
      ],
      "metadata": {
        "colab": {
          "base_uri": "https://localhost:8080/"
        },
        "id": "mUoOlTwEY88k",
        "outputId": "5ad07ff6-f712-4d5e-961d-50a61349145d"
      },
      "execution_count": 5,
      "outputs": [
        {
          "output_type": "stream",
          "name": "stdout",
          "text": [
            "Lookalike recommendations saved to Lookalike.csv\n"
          ]
        }
      ]
    }
  ]
}